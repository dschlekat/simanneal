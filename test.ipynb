{
 "cells": [
  {
   "cell_type": "code",
   "execution_count": 15,
   "metadata": {},
   "outputs": [
    {
     "data": {
      "text/plain": [
       "array([[ 40.72,  74.  ],\n",
       "       [ 34.05, 118.25],\n",
       "       [ 41.88,  87.63],\n",
       "       [ 29.77,  95.38],\n",
       "       [ 33.45, 112.07],\n",
       "       [ 39.95,  75.17],\n",
       "       [ 29.53,  98.47],\n",
       "       [ 32.78,  96.8 ],\n",
       "       [ 32.78, 117.15],\n",
       "       [ 37.3 , 121.87]])"
      ]
     },
     "execution_count": 15,
     "metadata": {},
     "output_type": "execute_result"
    }
   ],
   "source": [
    "import numpy as np\n",
    "\n",
    "city_list = {\n",
    "    'New York City': (40.72, 74.00),\n",
    "    'Los Angeles': (34.05, 118.25),\n",
    "    'Chicago': (41.88, 87.63),\n",
    "    'Houston': (29.77, 95.38),\n",
    "    'Phoenix': (33.45, 112.07),\n",
    "    'Philadelphia': (39.95, 75.17),\n",
    "    'San Antonio': (29.53, 98.47),\n",
    "    'Dallas': (32.78, 96.80),\n",
    "    'San Diego': (32.78, 117.15),\n",
    "    'San Jose': (37.30, 121.87),\n",
    "    'Detroit': (42.33, 83.05),\n",
    "    'San Francisco': (37.78, 122.42),\n",
    "    'Jacksonville': (30.32, 81.70),\n",
    "    'Indianapolis': (39.78, 86.15),\n",
    "    'Austin': (30.27, 97.77),\n",
    "    'Columbus': (39.98, 82.98),\n",
    "    'Fort Worth': (32.75, 97.33),\n",
    "    'Charlotte': (35.23, 80.85),\n",
    "    'Memphis': (35.12, 89.97),\n",
    "    'Baltimore': (39.28, 76.62)\n",
    "}\n",
    "\n",
    "def USA_cities(cities: int):\n",
    "    city_array = np.array(list(city_list.values()))\n",
    "    \n",
    "    cities = city_array[:cities]\n",
    "\n",
    "    return cities\n",
    "\n",
    "USA_cities(10)"
   ]
  },
  {
   "cell_type": "code",
   "execution_count": null,
   "metadata": {},
   "outputs": [],
   "source": []
  }
 ],
 "metadata": {
  "kernelspec": {
   "display_name": "phys332",
   "language": "python",
   "name": "python3"
  },
  "language_info": {
   "codemirror_mode": {
    "name": "ipython",
    "version": 3
   },
   "file_extension": ".py",
   "mimetype": "text/x-python",
   "name": "python",
   "nbconvert_exporter": "python",
   "pygments_lexer": "ipython3",
   "version": "3.9.17"
  }
 },
 "nbformat": 4,
 "nbformat_minor": 2
}
